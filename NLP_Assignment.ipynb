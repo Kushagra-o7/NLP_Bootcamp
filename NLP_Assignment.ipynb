{
 "cells": [
  {
   "cell_type": "markdown",
   "id": "fb05feda",
   "metadata": {},
   "source": [
    "## NLP Assignment\n",
    "\n",
    "source of dataset: SHAKESPEARE folder texts from https://www.kaggle.com/datasets/mylesoneill/classic-literature-in-ascii"
   ]
  },
  {
   "cell_type": "code",
   "execution_count": null,
   "id": "4c6ebbb7",
   "metadata": {},
   "outputs": [],
   "source": [
    "import os\n",
    "import re\n",
    "import nltk\n",
    "from nltk.tokenize import word_tokenize\n",
    "\n",
    "folder_path = \"./SHAKESPEARE\"\n",
    "text = \"\"\n",
    "for filename in os.listdir(folder_path):\n",
    "    if filename.lower().endswith(\".txt\"):  # only .txt files\n",
    "        file_path = os.path.join(folder_path, filename)\n",
    "        if os.path.isfile(file_path):\n",
    "            with open(file_path, \"r\", encoding=\"utf-8\") as file:\n",
    "                content = file.read()\n",
    "        text += content + \"\\n\" "
   ]
  },
  {
   "cell_type": "code",
   "execution_count": null,
   "id": "86d246a8",
   "metadata": {},
   "outputs": [
    {
     "name": "stderr",
     "output_type": "stream",
     "text": [
      "[nltk_data] Downloading package stopwords to\n",
      "[nltk_data]     C:\\Users\\kusha\\AppData\\Roaming\\nltk_data...\n",
      "[nltk_data]   Unzipping corpora\\stopwords.zip.\n"
     ]
    }
   ],
   "source": [
    "# stopword removal\n",
    "nltk.download('stopwords')\n",
    "from nltk.corpus import stopwords\n",
    "\n",
    "# Remove stopwords function for any language\n",
    "def remove_stopwords(text, language):\n",
    "    stop_words = set(stopwords.words(language))\n",
    "    word_tokens = text.split()\n",
    "    filtered_text = [word for word in word_tokens if word not in stop_words]\n",
    "    print(f\"Language: {language}\")\n",
    "    print(\"Filtered Text:\", filtered_text)\n",
    "    return filtered_text\n"
   ]
  },
  {
   "cell_type": "code",
   "execution_count": null,
   "id": "ddba1cd0",
   "metadata": {},
   "outputs": [
    {
     "data": {
      "text/plain": [
       "'I hope this bootcamp is useful for you. You can share it with your friends at '"
      ]
     },
     "execution_count": 10,
     "metadata": {},
     "output_type": "execute_result"
    }
   ],
   "source": [
    "def remove_urls(text):\n",
    "    url_pattern = re.compile(r'https?://\\S+|www\\.\\S+')\n",
    "    return url_pattern.sub(r'', text)\n",
    "\n",
    "# Example usage\n",
    "text = \"I hope this bootcamp is useful for you. You can share it with your friends at https://example.com\"\n",
    "remove_urls(text)"
   ]
  },
  {
   "cell_type": "code",
   "execution_count": null,
   "id": "43b10fc0",
   "metadata": {},
   "outputs": [],
   "source": [
    "from nltk.stem.porter import PorterStemmer\n",
    "\n",
    "# Stemming function\n",
    "stemmer = PorterStemmer()\n",
    "\n",
    "def stem_words(text):\n",
    "    word_tokens = text.split()\n",
    "    stems = [stemmer.stem(word) for word in word_tokens]\n",
    "    return stems\n",
    "\n",
    "# Example usage\n",
    "text = 'text preprocessing section in course nlp - deep learning'\n",
    "stem_words(text)"
   ]
  },
  {
   "cell_type": "code",
   "execution_count": null,
   "id": "df399e3a",
   "metadata": {},
   "outputs": [],
   "source": [
    "from nltk.stem import WordNetLemmatizer\n",
    "\n",
    "# Lemmatization function\n",
    "lemmatizer = WordNetLemmatizer()\n",
    "\n",
    "def lemmatize_word(text):\n",
    "    word_tokens = text.split()\n",
    "    lemmas = [lemmatizer.lemmatize(word, pos ='v') for word in word_tokens]\n",
    "    return lemmas\n",
    "\n",
    "# Example usage\n",
    "text = 'text preprocessing section in course nlp - deep learning'\n",
    "print(lemmatize_word(text))"
   ]
  },
  {
   "cell_type": "code",
   "execution_count": 11,
   "id": "3359c0b4",
   "metadata": {},
   "outputs": [
    {
     "name": "stderr",
     "output_type": "stream",
     "text": [
      "[nltk_data] Downloading package punkt to\n",
      "[nltk_data]     C:\\Users\\kusha\\AppData\\Roaming\\nltk_data...\n",
      "[nltk_data]   Unzipping tokenizers\\punkt.zip.\n",
      "[nltk_data] Downloading package punkt_tab to\n",
      "[nltk_data]     C:\\Users\\kusha\\AppData\\Roaming\\nltk_data...\n",
      "[nltk_data]   Unzipping tokenizers\\punkt_tab.zip.\n"
     ]
    },
    {
     "data": {
      "text/plain": [
       "True"
      ]
     },
     "execution_count": 11,
     "metadata": {},
     "output_type": "execute_result"
    }
   ],
   "source": [
    "\n",
    "# Download the 'punkt' resource for tokenization\n",
    "nltk.download('punkt')\n",
    "nltk.download('punkt_tab')\n"
   ]
  },
  {
   "cell_type": "markdown",
   "id": "19094d36",
   "metadata": {},
   "source": [
    "# Pre processing"
   ]
  },
  {
   "cell_type": "code",
   "execution_count": null,
   "id": "43542132",
   "metadata": {},
   "outputs": [],
   "source": [
    "lowercased_text = text.lower()      # lowercase the text\n",
    "\n",
    "# clean the text by removing punctuation\n",
    "punctuation_pattern = r'[^\\w\\s]'\n",
    "text_cleaned = re.sub(punctuation_pattern, '', text)\n",
    "\n",
    "text = remove_stopwords(text_cleaned, \"english\")\n",
    "text = remove_urls(text)\n",
    "\n",
    "html_tags_pattern = r'<.*?>'\n",
    "text_without_html_tags = re.sub(html_tags_pattern, '', text)\n",
    "\n",
    "text = text_without_html_tags\n",
    "\n",
    "text = stem_words(text)     # stemming\n",
    "\n",
    "text = lemmatize_word(text)\n",
    "\n",
    "tokens = word_tokenize(text)   # tokenization\n"
   ]
  },
  {
   "cell_type": "code",
   "execution_count": null,
   "id": "92b479b5",
   "metadata": {},
   "outputs": [],
   "source": [
    "print(tokens)"
   ]
  }
 ],
 "metadata": {
  "kernelspec": {
   "display_name": "Python 3",
   "language": "python",
   "name": "python3"
  },
  "language_info": {
   "codemirror_mode": {
    "name": "ipython",
    "version": 3
   },
   "file_extension": ".py",
   "mimetype": "text/x-python",
   "name": "python",
   "nbconvert_exporter": "python",
   "pygments_lexer": "ipython3",
   "version": "3.11.0"
  }
 },
 "nbformat": 4,
 "nbformat_minor": 5
}
